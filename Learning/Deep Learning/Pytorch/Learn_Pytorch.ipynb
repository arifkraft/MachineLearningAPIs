{
 "cells": [
  {
   "cell_type": "markdown",
   "metadata": {},
   "source": [
    "# Getting Started with PyTorch\n",
    "Pytorch is a replacement for numpy. Its just faster and uses the power of GPUs\n",
    "* What is a Tensor?\n",
    "    * A tensor is similar to ndarray, but can be used on a GPU to make the computations faster"
   ]
  },
  {
   "cell_type": "code",
   "execution_count": 1,
   "metadata": {},
   "outputs": [],
   "source": [
    "# Construct a 5x3 tensor uninitialized\n",
    "\n",
    "from __future__ import print_function\n",
    "import torch"
   ]
  },
  {
   "cell_type": "code",
   "execution_count": 3,
   "metadata": {},
   "outputs": [
    {
     "data": {
      "text/plain": [
       "tensor([[ 0.0000,  2.0000,  0.0000],\n",
       "        [ 2.0000,  0.0000,  0.0000],\n",
       "        [ 0.0000,  0.0000,  0.0000],\n",
       "        [ 0.0000,  0.0000,  0.0000],\n",
       "        [ 0.0000,  0.0000,  0.0000]])"
      ]
     },
     "execution_count": 3,
     "metadata": {},
     "output_type": "execute_result"
    }
   ],
   "source": [
    "torch.empty(5,3)"
   ]
  },
  {
   "cell_type": "code",
   "execution_count": 9,
   "metadata": {},
   "outputs": [
    {
     "data": {
      "text/plain": [
       "tensor([[ 0.6766,  0.0261,  0.3516],\n",
       "        [ 0.3813,  0.8592,  0.7167],\n",
       "        [ 0.0283,  0.2327,  0.9152],\n",
       "        [ 0.8097,  0.6036,  0.6212],\n",
       "        [ 0.0103,  0.9726,  0.4808]])"
      ]
     },
     "execution_count": 9,
     "metadata": {},
     "output_type": "execute_result"
    }
   ],
   "source": [
    "# Randomly initialized Tensor \n",
    "torch.rand(5,3)"
   ]
  },
  {
   "cell_type": "code",
   "execution_count": 11,
   "metadata": {},
   "outputs": [
    {
     "data": {
      "text/plain": [
       "tensor([[ 0,  0,  0,  0],\n",
       "        [ 0,  0,  0,  0],\n",
       "        [ 0,  0,  0,  0],\n",
       "        [ 0,  0,  0,  0],\n",
       "        [ 0,  0,  0,  0]], dtype=torch.int32)"
      ]
     },
     "execution_count": 11,
     "metadata": {},
     "output_type": "execute_result"
    }
   ],
   "source": [
    "# Matrix filled with zeroes\n",
    "torch.zeros(5,4, dtype=torch.int)"
   ]
  },
  {
   "cell_type": "code",
   "execution_count": 30,
   "metadata": {},
   "outputs": [
    {
     "name": "stdout",
     "output_type": "stream",
     "text": [
      "tensor([[[ 0.,  9.,  7.,  9.],\n",
      "         [ 6.,  7.,  8.,  6.]],\n",
      "\n",
      "        [[ 0.,  9.,  7.,  9.],\n",
      "         [ 6.,  7.,  8.,  6.]]], dtype=torch.float64)\n"
     ]
    }
   ],
   "source": [
    "# Construct a tensor directly from data. Make it 3 dimensional\n",
    "x = torch.tensor([[[0,9,7,9],[6,7,8,6]],[[0,9,7,9],[6,7,8,6]]], dtype=torch.double)\n",
    "print(x)"
   ]
  },
  {
   "cell_type": "code",
   "execution_count": 20,
   "metadata": {},
   "outputs": [
    {
     "data": {
      "text/plain": [
       "tensor([[[ 1,  1,  1,  1],\n",
       "         [ 1,  1,  1,  1]],\n",
       "\n",
       "        [[ 1,  1,  1,  1],\n",
       "         [ 1,  1,  1,  1]]])"
      ]
     },
     "execution_count": 20,
     "metadata": {},
     "output_type": "execute_result"
    }
   ],
   "source": [
    "# Construct tensor with only ones with like shape \n",
    "torch.ones_like(x)"
   ]
  },
  {
   "cell_type": "code",
   "execution_count": 22,
   "metadata": {},
   "outputs": [
    {
     "data": {
      "text/plain": [
       "tensor([[[ 0.3768,  0.2960,  0.5817,  0.7760],\n",
       "         [ 0.6758,  0.5623,  0.3428,  0.8346]],\n",
       "\n",
       "        [[ 0.6423,  0.8714,  0.3498,  0.6603],\n",
       "         [ 0.7114,  0.1292,  0.7114,  0.8972]]], dtype=torch.float64)"
      ]
     },
     "execution_count": 22,
     "metadata": {},
     "output_type": "execute_result"
    }
   ],
   "source": [
    "#  Construct tensor with random numbers with a like shape \n",
    "torch.rand_like(x, dtype= torch.double)"
   ]
  },
  {
   "cell_type": "code",
   "execution_count": 23,
   "metadata": {},
   "outputs": [
    {
     "data": {
      "text/plain": [
       "torch.Size([2, 2, 4])"
      ]
     },
     "execution_count": 23,
     "metadata": {},
     "output_type": "execute_result"
    }
   ],
   "source": [
    "x.size()"
   ]
  },
  {
   "cell_type": "code",
   "execution_count": 31,
   "metadata": {},
   "outputs": [],
   "source": [
    "y = torch.rand_like(x, dtype= torch.double)"
   ]
  },
  {
   "cell_type": "code",
   "execution_count": 32,
   "metadata": {},
   "outputs": [
    {
     "data": {
      "text/plain": [
       "tensor([[[ 0.5196,  9.5421,  7.2905,  9.9490],\n",
       "         [ 6.6698,  7.5436,  8.4130,  6.3636]],\n",
       "\n",
       "        [[ 0.9486,  9.9364,  7.7246,  9.6139],\n",
       "         [ 6.3074,  7.6495,  8.3376,  6.8223]]], dtype=torch.float64)"
      ]
     },
     "execution_count": 32,
     "metadata": {},
     "output_type": "execute_result"
    }
   ],
   "source": [
    "x + y"
   ]
  },
  {
   "cell_type": "code",
   "execution_count": 35,
   "metadata": {},
   "outputs": [
    {
     "data": {
      "text/plain": [
       "tensor([[[ 0.5196,  9.5421,  7.2905,  9.9490],\n",
       "         [ 6.6698,  7.5436,  8.4130,  6.3636]],\n",
       "\n",
       "        [[ 0.9486,  9.9364,  7.7246,  9.6139],\n",
       "         [ 6.3074,  7.6495,  8.3376,  6.8223]]], dtype=torch.float64)"
      ]
     },
     "execution_count": 35,
     "metadata": {},
     "output_type": "execute_result"
    }
   ],
   "source": [
    "result = torch.empty_like(x, dtype= torch.double)\n",
    "torch.add(x,y, out= result)\n",
    "result"
   ]
  },
  {
   "cell_type": "code",
   "execution_count": 40,
   "metadata": {},
   "outputs": [
    {
     "data": {
      "text/plain": [
       "tensor([[[   0.,  288.,  224.,  288.],\n",
       "         [ 192.,  224.,  256.,  192.]],\n",
       "\n",
       "        [[   0.,  288.,  224.,  288.],\n",
       "         [ 192.,  224.,  256.,  192.]]], dtype=torch.float64)"
      ]
     },
     "execution_count": 40,
     "metadata": {},
     "output_type": "execute_result"
    }
   ],
   "source": [
    "x.add_(x)"
   ]
  },
  {
   "cell_type": "code",
   "execution_count": 49,
   "metadata": {},
   "outputs": [
    {
     "data": {
      "text/plain": [
       "tensor([[[ 224.,  288.]],\n",
       "\n",
       "        [[ 224.,  288.]]], dtype=torch.float64)"
      ]
     },
     "execution_count": 49,
     "metadata": {},
     "output_type": "execute_result"
    }
   ],
   "source": [
    "x[:,:1,-2:]"
   ]
  },
  {
   "cell_type": "code",
   "execution_count": 50,
   "metadata": {},
   "outputs": [],
   "source": [
    "# if you want to reshape your tensor"
   ]
  },
  {
   "cell_type": "code",
   "execution_count": 56,
   "metadata": {},
   "outputs": [],
   "source": [
    "x.shape\n",
    "z= torch.rand(16)"
   ]
  },
  {
   "cell_type": "code",
   "execution_count": 63,
   "metadata": {},
   "outputs": [
    {
     "data": {
      "text/plain": [
       "tensor([[[[   0.,  288.],\n",
       "          [ 224.,  288.]],\n",
       "\n",
       "         [[ 192.,  224.],\n",
       "          [ 256.,  192.]]],\n",
       "\n",
       "\n",
       "        [[[   0.,  288.],\n",
       "          [ 224.,  288.]],\n",
       "\n",
       "         [[ 192.,  224.],\n",
       "          [ 256.,  192.]]]], dtype=torch.float64)"
      ]
     },
     "execution_count": 63,
     "metadata": {},
     "output_type": "execute_result"
    }
   ],
   "source": [
    "x.view(2,2,2,2)"
   ]
  },
  {
   "cell_type": "code",
   "execution_count": 67,
   "metadata": {},
   "outputs": [
    {
     "data": {
      "text/plain": [
       "0.8973182439804077"
      ]
     },
     "execution_count": 67,
     "metadata": {},
     "output_type": "execute_result"
    }
   ],
   "source": [
    "torch.rand(1).item()"
   ]
  },
  {
   "cell_type": "code",
   "execution_count": 68,
   "metadata": {},
   "outputs": [
    {
     "data": {
      "text/plain": [
       "False"
      ]
     },
     "execution_count": 68,
     "metadata": {},
     "output_type": "execute_result"
    }
   ],
   "source": [
    "torch.cuda.is_available()"
   ]
  },
  {
   "cell_type": "code",
   "execution_count": null,
   "metadata": {},
   "outputs": [],
   "source": []
  }
 ],
 "metadata": {
  "kernelspec": {
   "display_name": "Python 3",
   "language": "python",
   "name": "python3"
  },
  "language_info": {
   "codemirror_mode": {
    "name": "ipython",
    "version": 3
   },
   "file_extension": ".py",
   "mimetype": "text/x-python",
   "name": "python",
   "nbconvert_exporter": "python",
   "pygments_lexer": "ipython3",
   "version": "3.6.4"
  }
 },
 "nbformat": 4,
 "nbformat_minor": 2
}
